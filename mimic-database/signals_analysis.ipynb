{
 "cells": [
  {
   "cell_type": "code",
   "execution_count": 30,
   "metadata": {},
   "outputs": [
    {
     "name": "stdout",
     "output_type": "stream",
     "text": [
      "37\n",
      "['211', '471', '476', '220', '449', '041', '413', '414', '221', '226', '415', '401', '408', '260', '409', '055', '037', '039', '248', '417', '212', '472', '240', '418', '427', '474', '442', '213', '231', '253', '254', '291', '237', '230', '466', '403', '252']\n"
     ]
    }
   ],
   "source": [
    "from collections import defaultdict\n",
    "\n",
    "signal_ct_dict = defaultdict(int)\n",
    "\n",
    "with open('signals.txt', 'r', encoding='utf-8') as f:\n",
    "        lines = f.readlines()\n",
    "        \n",
    "        set_count = 0\n",
    "        patients_to_use = []\n",
    "        \n",
    "        for line in lines:\n",
    "            patient_id, signals = line.split(\": \")\n",
    "            patient_id = patient_id[:3]\n",
    "            signals_str = signals[1:-2]\n",
    "            signals = signals_str.split(\", \")\n",
    "#             print(signals)\n",
    "            for i in range(len(signals)):\n",
    "                #signals[i] = signals[i][1:-1]\n",
    "#                 print(str(signals[i]))\n",
    "                signals[i] = signals[i].strip(\"\\'\")\n",
    "                signal_ct_dict[signals[i]] += 1\n",
    "        \n",
    "            if \"SpO2\" in signals and \"RESP\" in signals and \"HR\" in signals and \"ABP\" in signals:\n",
    "                set_count += 1\n",
    "                patients_to_use.append(patient_id)\n",
    "        \n",
    "        print(set_count)\n",
    "        print(patients_to_use)\n"
   ]
  },
  {
   "cell_type": "code",
   "execution_count": null,
   "metadata": {},
   "outputs": [],
   "source": [
    "[\"SpO2\", \"RESP\", \"HR\", \"ABP\", \"PULSE\"]"
   ]
  },
  {
   "cell_type": "code",
   "execution_count": 19,
   "metadata": {},
   "outputs": [],
   "source": [
    "signal_ct_dict = dict(sorted(signal_ct_dict.items(), key=lambda item: item[1], reverse=True))"
   ]
  },
  {
   "cell_type": "code",
   "execution_count": 20,
   "metadata": {},
   "outputs": [
    {
     "data": {
      "text/plain": [
       "{'SpO2': 69,\n",
       " 'RESP': 57,\n",
       " 'HR': 51,\n",
       " 'ABP': 51,\n",
       " 'PULSE': 38,\n",
       " 'PAP': 31,\n",
       " 'C.O.': 22,\n",
       " 'INOP\\\\tSpO2': 21,\n",
       " 'ALARM\\\\t**': 19,\n",
       " 'NBP': 17,\n",
       " 'PAWP': 17,\n",
       " 'INOP\\\\tNOISY-CHK': 16,\n",
       " 'INOP\\\\tPLETH': 13,\n",
       " 'ST2': 13,\n",
       " 'ST1': 13,\n",
       " 'CVP': 12,\n",
       " 'ST3': 8,\n",
       " 'ETCO2': 7,\n",
       " 'IMCO2': 7,\n",
       " 'AWRR': 7,\n",
       " 'Tblood[inactive,': 6,\n",
       " 'INOP\\\\tDECREASE': 5,\n",
       " 'INOP\\\\tRESP': 5,\n",
       " 'INOP\\\\tLEADS': 4,\n",
       " 'LAP': 3,\n",
       " 'INOP\\\\tPAP': 3,\n",
       " 'Tblood\\\\t37.4\\\\n': 3,\n",
       " 'Tblood\\\\t37.3\\\\n': 3,\n",
       " 'ART': 3,\n",
       " 'INOP\\\\tCHECK': 2,\n",
       " 'Tblood\\\\t37.2\\\\n': 2,\n",
       " 'INOP\\\\tCVP': 2,\n",
       " 'Tblood\\\\t36.5\\\\n': 2,\n",
       " 'INOP\\\\tABP': 2,\n",
       " 'Tblood\\\\t36.9\\\\n': 2,\n",
       " 'Tblood\\\\t36.8\\\\n': 2,\n",
       " 'INOP\\\\tST2': 2,\n",
       " 'Tblood\\\\t37.5\\\\n': 2,\n",
       " 'Tblood\\\\t36.4\\\\n': 1,\n",
       " 'Tblood\\\\t36.7': 1,\n",
       " 'Tblood\\\\t36.8': 1,\n",
       " 'Tblood\\\\t37.1\\\\n': 1,\n",
       " 'INOP\\\\tART': 1,\n",
       " 'INOP\\\\tAo': 1,\n",
       " 'Tblood\\\\t38\\\\n': 1,\n",
       " 'Tblood\\\\t37.8\\\\n': 1,\n",
       " 'Tblood\\\\t37.9\\\\n': 1,\n",
       " 'Tblood\\\\t37.1': 1,\n",
       " 'INOP\\\\tINCREASE': 1,\n",
       " 'Tblood\\\\t37': 1,\n",
       " 'INOP\\\\tCANNOT': 1,\n",
       " 'Tblood\\\\t36.7\\\\n': 1,\n",
       " 'Tblood\\\\t36.6\\\\n': 1,\n",
       " 'INOP\\\\tST3': 1,\n",
       " 'Tblood\\\\t37.5': 1,\n",
       " 'Tblood\\\\t37.4': 1,\n",
       " 'P4': 1,\n",
       " 'Tblood\\\\t29.9\\\\n': 1,\n",
       " 'Tblood\\\\t29.8\\\\n': 1,\n",
       " 'Tblood\\\\t30.8\\\\n': 1,\n",
       " 'Tblood\\\\t31.3\\\\n': 1,\n",
       " 'Tblood\\\\t30.6\\\\n': 1,\n",
       " 'Tblood\\\\t35.7\\\\n': 1,\n",
       " 'Tblood\\\\t30.1\\\\n': 1,\n",
       " 'Tblood\\\\t29.6\\\\n': 1,\n",
       " 'Tblood\\\\t29.2\\\\n': 1,\n",
       " 'Tblood\\\\t33.7\\\\n': 1,\n",
       " 'Tblood\\\\t34.7\\\\n': 1,\n",
       " 'Tblood\\\\t30.3\\\\n': 1,\n",
       " 'Tblood\\\\t29.3\\\\n': 1,\n",
       " 'Tblood\\\\t29.7\\\\n': 1,\n",
       " 'Tblood\\\\t32.2\\\\n': 1,\n",
       " 'Tblood\\\\t29.1\\\\n': 1,\n",
       " 'Tblood\\\\t32.8\\\\n': 1,\n",
       " 'Tblood\\\\t29.5\\\\n': 1,\n",
       " 'Tblood\\\\t34.2\\\\n': 1,\n",
       " 'Tblood\\\\t30\\\\n': 1,\n",
       " 'Tblood\\\\t31.6\\\\n': 1,\n",
       " 'Tblood\\\\t29.4\\\\n': 1,\n",
       " 'Tblood\\\\t37.7\\\\n': 1,\n",
       " 'Tblood\\\\t37.6\\\\n': 1,\n",
       " 'INOP\\\\tCO2': 1,\n",
       " 'Tblood\\\\t38.9\\\\n': 1,\n",
       " 'Tblood\\\\t38.8\\\\n': 1,\n",
       " 'Tblood\\\\t38.7\\\\n': 1,\n",
       " 'Tblood\\\\t38.6\\\\n': 1,\n",
       " 'UAP': 1,\n",
       " 'ART1': 1,\n",
       " 'Tblood\\\\t36.2\\\\n': 1,\n",
       " 'Tblood\\\\t35.9\\\\n': 1,\n",
       " 'Tblood\\\\t36\\\\n': 1,\n",
       " 'Tblood\\\\t36.1\\\\n': 1}"
      ]
     },
     "execution_count": 20,
     "metadata": {},
     "output_type": "execute_result"
    }
   ],
   "source": [
    "signal_ct_dict"
   ]
  }
 ],
 "metadata": {
  "kernelspec": {
   "display_name": "Python 3",
   "language": "python",
   "name": "python3"
  },
  "language_info": {
   "codemirror_mode": {
    "name": "ipython",
    "version": 3
   },
   "file_extension": ".py",
   "mimetype": "text/x-python",
   "name": "python",
   "nbconvert_exporter": "python",
   "pygments_lexer": "ipython3",
   "version": "3.7.3"
  }
 },
 "nbformat": 4,
 "nbformat_minor": 2
}
