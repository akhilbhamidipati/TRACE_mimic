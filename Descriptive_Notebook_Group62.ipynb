{
 "cells": [
  {
   "cell_type": "markdown",
   "metadata": {
    "id": "AcHVuhAQq1WW"
   },
   "source": [
    "# Reproducibility summary"
   ]
  },
  {
   "cell_type": "markdown",
   "metadata": {
    "id": "V_AVSeK4u-zi"
   },
   "source": [
    "The original paper introduces a new unsupervised representation learning method called TRACE which builds on the TNC (Temporal Neighborhood Coding) framework to produce better predictions on ICU data. \n",
    "\n",
    "The claim we picked from the paper to test is that TRACE will have higher accuracy than baseline models including TNC, CPC, T-Loss, and Supervised with end-to-end encoding on label prediction.\n",
    "\n",
    "In our attempts to reproduce the paper we were able to prove the claim that TRACE would have a higher accuracy than baseline models in predicting labels, and we were able to do so on a different dataset than what was used in the original paper. This is compelling evidence that the model introduced by the original paper can be used in general for ICU data. "
   ]
  },
  {
   "cell_type": "markdown",
   "metadata": {
    "id": "pU4nNfQ7q6au"
   },
   "source": [
    "# Visualization of data statistics"
   ]
  },
  {
   "cell_type": "markdown",
   "metadata": {
    "id": "6FvSsMC3wvcR"
   },
   "source": [
    "There were many different signals present for each patient in the data. Not all of them were present in every patient, meaning if we used all the features there would be a lot of sparseness in the data. With most of the signals appearing only once in a patient, it made sense to cut out some of them as they only provide noise to the model. "
   ]
  },
  {
   "cell_type": "markdown",
   "metadata": {
    "id": "n4uIwlBeCuXg"
   },
   "source": [
    "In the below chart, the y-axis represents the number of patients that the signal was present, and the x-axis represents each signal. "
   ]
  },
  {
   "cell_type": "code",
   "execution_count": 1,
   "metadata": {
    "colab": {
     "base_uri": "https://localhost:8080/",
     "height": 867
    },
    "id": "dicWE5_au29u",
    "outputId": "c8fb774e-a7ed-45d9-ea27-601fe7feacd0"
   },
   "outputs": [
    {
     "data": {
      "image/png": "[encoded data removed]",
      "text/plain": [
       "<IPython.core.display.Image object>"
      ]
     },
     "execution_count": 1,
     "metadata": {},
     "output_type": "execute_result"
    }
   ],
   "source": [
    "from IPython.display import Image\n",
    "Image('signal_frequency.png')"
   ]
  },
  {
   "cell_type": "markdown",
   "metadata": {
    "id": "2TBJvP_Gq7d6"
   },
   "source": [
    "# Methodology explanation and examples"
   ]
  },
  {
   "cell_type": "markdown",
   "metadata": {
    "id": "NkhTfcmjx4sU"
   },
   "source": [
    "We plan to re-implement the models from the paper ourselves while using the authors’ code as reference. These include the aforementioned models TRACE, CPC, T-Loss, and Supervised E2E.\n",
    "\n",
    "The authors provide a link to a GitHub repository with their code, including some light documentation covering how to create the encoding for the specific data set they used. We will be using the MIMIC dataset Moody and Mark (1996) as we were unable to get access to the HiRID dataset before the project deadline."
   ]
  },
  {
   "cell_type": "markdown",
   "metadata": {
    "id": "9_EWHussyIQF"
   },
   "source": [
    "Due to this change in our data source, this meant that we were unable to use the data processing used by the original paper. Instead we did a data exploration of the MIMIC dataset and processed it ourselves with our own code implementation from scratch. This was time-consuming and labor-intensive, not to mention that we also had to change parts of the model implementation to account for the data we generated from MIMIC.  "
   ]
  },
  {
   "cell_type": "markdown",
   "metadata": {
    "id": "DaqTLHEW_uxk"
   },
   "source": [
    "## Label Generation Code"
   ]
  },
  {
   "cell_type": "markdown",
   "metadata": {
    "id": "lhdILZtVD-0_"
   },
   "source": [
    "To check our model accuracy, we generated labels based on the ”PULSE” signal having 0 values present for a patient’s time-series data, indicating that they experienced a cardiac arrest event. If the patient had no 0 values present in their time-series data for the ”PULSE” signal, then we know that they did not have a cardiac arrest event. A label of 0 means the patient did not have a cardiac arrest event, and a label of 1 means the patient did."
   ]
  },
  {
   "cell_type": "code",
   "execution_count": 2,
   "metadata": {
    "id": "bBjc6Afkybeu"
   },
   "outputs": [],
   "source": [
    "import os\n",
    "\n",
    "def get_patient_labels():\n",
    "    \"\"\" loop through patient folders and get label for each one\n",
    "\n",
    "    Returns:\n",
    "        dict: dictionary of patients and their labels\n",
    "    \"\"\"\n",
    "    patient_labels = {}\n",
    "    first_cardiac_arrest_records = {}\n",
    "\n",
    "    for folder_name in os.listdir(os.path.join(os.getcwd(), \"mimic-database-small-version\")):\n",
    "        if folder_name.isdigit():\n",
    "            print(f\"Getting label for patient name: {folder_name}\")\n",
    "            # loop through every file\n",
    "            had_cardiac_arrest, first_cardiac_arrest_record = get_had_cardiac_arrest(folder_name)\n",
    "            if had_cardiac_arrest:\n",
    "                patient_labels[folder_name] = 1\n",
    "                first_cardiac_arrest_records[folder_name] = first_cardiac_arrest_record\n",
    "            else:\n",
    "                patient_labels[folder_name] = 0\n",
    "    return patient_labels, first_cardiac_arrest_records\n",
    "\n",
    "\n",
    "def get_had_cardiac_arrest(folder_name):\n",
    "    \"\"\" gets cardiac arrest boolean from files in patient folder\n",
    "\n",
    "    Args:\n",
    "        folderName (str): the name of the folder\n",
    "\n",
    "    Returns:\n",
    "        boolean: whether the patient had a cardiac arrest event\n",
    "    \"\"\"\n",
    "    file_names = os.listdir(os.path.join(os.getcwd(), \"mimic-database-small-version\", folder_name))\n",
    "    pulse_record_ct = 0\n",
    "    for file_name in file_names:\n",
    "        # if the file name ends with txt\n",
    "        if file_name.endswith((\".txt\")):\n",
    "            file_path = os.path.join(os.getcwd(), \"mimic-database-small-version\", folder_name, file_name)\n",
    "            with open(file_path, 'r', encoding='utf-8') as f:\n",
    "                lines = f.readlines()\n",
    "                for line in lines:\n",
    "                    if line.startswith((\"PULSE\")):\n",
    "                        pulse_record_ct += 1\n",
    "                        reading = line.split(\"\\t\")\n",
    "                        if len(reading) >= 2:\n",
    "                            pulse = int(reading[1])\n",
    "                            if pulse == 0:\n",
    "                                return True, pulse_record_ct\n",
    "    return False, None\n",
    "\n",
    "def write_labels_to_file(patient_labels, first_cardiac_arrest_records):\n",
    "      for patient, label in patient_labels.items():\n",
    "          print(f\"Patient {patient} has label: {label}\")"
   ]
  },
  {
   "cell_type": "code",
   "execution_count": 3,
   "metadata": {
    "colab": {
     "base_uri": "https://localhost:8080/"
    },
    "id": "14ZIi8XKzBxa",
    "outputId": "425d0b59-8209-443f-daee-ebca4dcd5008"
   },
   "outputs": [
    {
     "name": "stdout",
     "output_type": "stream",
     "text": [
      "Getting label for patient name: 211\n",
      "Getting label for patient name: 041\n",
      "Getting label for patient name: 037\n",
      "Getting label for patient name: 039\n",
      "Patient 211 has label: 0\n",
      "Patient 041 has label: 1\n",
      "Patient 037 has label: 1\n",
      "Patient 039 has label: 1\n"
     ]
    }
   ],
   "source": [
    "patient_labels, first_cardiac_arrest_records = get_patient_labels()\n",
    "write_labels_to_file(patient_labels, first_cardiac_arrest_records)"
   ]
  },
  {
   "cell_type": "markdown",
   "metadata": {
    "id": "St0zjQGS1IUe"
   },
   "source": [
    "This is different from the original paper as in the original paper they try to predict cardiopulmonary arrest and mortality labels. Cardiopulmonary arrest is the cessation of breathing and circulation. This would have been more difficult to generate labels for due to the low number of quality signal types and the lack of a clear definition of mortality in relation to those signals. By quality, we refer to the low number of common signals between patients. \n",
    "\n",
    "Therefore it made sense to use only one of our quality signals to generate labels instead of two, as we are only interested in how TRACE performs in comparison to baseline models, rather than on the labels themselves. "
   ]
  },
  {
   "cell_type": "markdown",
   "metadata": {
    "id": "xyYhRLsRAZ1p"
   },
   "source": [
    "## Data Generation Code"
   ]
  },
  {
   "cell_type": "markdown",
   "metadata": {
    "id": "PZdkUXbdAbi8"
   },
   "source": [
    "We also had to generate usable data from the raw data files from MIMIC. In order to do this we looped through each patient folder's files line by line, and extracted all the features that we wanted to use for our model."
   ]
  },
  {
   "cell_type": "code",
   "execution_count": 4,
   "metadata": {
    "id": "P_Q-GlPZAtD3"
   },
   "outputs": [],
   "source": [
    "import os\n",
    "\n",
    "def write_patient_data():\n",
    "    \"\"\" loop through patient folders and get label for each one\n",
    "\n",
    "    Returns:\n",
    "        dict: dictionary of patients and their labels\n",
    "    \"\"\"\n",
    "    patient_labels = {}\n",
    "    valid_patients = ['211', '471', '476', '449', '041', '413', '414', '221', '226', '415', '401', '408', '260', '409', '055', '037', '039', '248', '417', '212', '472', '240', '418', '427', '474', '442', '213', '231', '253', '254', '291', '237', '230', '466', '403', '252']\n",
    "   \n",
    "    valid_patients_labels = dict()\n",
    "    first_cardiac_arrest_records = dict()\n",
    "    \n",
    "    with open('mimic-database-small-version/labels.csv', 'r', encoding='utf-8') as f:\n",
    "        lines = f.readlines()\n",
    "        for line in lines:\n",
    "            patient_id, label = line.split(\",\")\n",
    "            label = int(label)\n",
    "            \n",
    "            if patient_id in valid_patients:\n",
    "                valid_patients_labels[patient_id] = label\n",
    "    \n",
    "    with open('mimic-database-small-version/first_cardiac_arrest_record.csv', 'r', encoding='utf-8') as f:\n",
    "        lines = f.readlines()\n",
    "        for line in lines:\n",
    "            patient_id, index = line.split(\",\")\n",
    "            index = int(index)\n",
    "            \n",
    "            if patient_id in valid_patients:\n",
    "                first_cardiac_arrest_records[patient_id] = index\n",
    "    \n",
    "\n",
    "    for folder_name in os.listdir(os.path.join(os.getcwd(), \"mimic-database-small-version\")):\n",
    "        if folder_name.isdigit() and folder_name in valid_patients:\n",
    "            print(f\"Getting data for patient name: {folder_name}\")\n",
    "            # loop through every file\n",
    "            patient_data = get_data_per_patient(folder_name)\n",
    "            write_data_to_file(folder_name, patient_data, valid_patients_labels, first_cardiac_arrest_records)\n",
    "            \n",
    "            \n",
    "    return patient_labels\n",
    "\n",
    "def get_data_per_patient(folder_name):\n",
    "    \"\"\"Gets data for each patient in terms of columns\n",
    "\n",
    "    Args:\n",
    "        folder_name (str): patient name\n",
    "    Returns:\n",
    "        dict<str, list>: dictionary signal names as keys and a list of values for each signal in order\n",
    "    \"\"\"\n",
    "    patient_data = {}\n",
    "    file_names = os.listdir(os.path.join(os.getcwd(), \"mimic-database-small-version\", folder_name))\n",
    "    for file_name in file_names:\n",
    "        # if the file name ends with txt\n",
    "        if file_name.endswith((\".txt\")):\n",
    "            file_path = os.path.join(os.getcwd(), \"mimic-database-small-version\", folder_name, file_name)\n",
    "            with open(file_path, 'r', encoding='utf-8') as f:\n",
    "                lines = f.readlines()\n",
    "                for line in lines:\n",
    "                    if line.startswith((\"SpO2\")) or line.startswith((\"RESP\")) or line.startswith((\"HR\")) or line.startswith((\"ABP\")):\n",
    "                        reading = line.split(\"\\t\")\n",
    "                        if len(reading) == 2:\n",
    "                            signal = reading[0].strip()\n",
    "                            value = int(float(reading[1]))\n",
    "                            #print(f\"Signal: {signal}, Value: {value}\")\n",
    "                            if signal != \"ABP\":\n",
    "                                if signal not in patient_data:\n",
    "                                    patient_data[signal] = [value]\n",
    "                                else:\n",
    "                                    patient_data[signal].append(value)\n",
    "                            else:\n",
    "                                if \"ABP1\" not in patient_data and \"ABP2\" not in patient_data and \"ABP3\" not in patient_data:\n",
    "                                    patient_data[\"ABP1\"] = [value]\n",
    "                                    patient_data[\"ABP2\"] = [value]\n",
    "                                    patient_data[\"ABP3\"] = [value]\n",
    "                                else:\n",
    "                                    patient_data[\"ABP1\"].append(value)\n",
    "                                    patient_data[\"ABP2\"].append(value)\n",
    "                                    patient_data[\"ABP3\"].append(value)\n",
    "                        elif len(reading) > 2:\n",
    "                            values = reading[1:]\n",
    "                            for index, value in enumerate(values):\n",
    "                                currentABP = f\"ABP{index+1}\"\n",
    "                                #print(f\"Signal: {currentABP}, Value: {value}\")\n",
    "                                if currentABP not in patient_data:\n",
    "                                    patient_data[currentABP] = [int(value)]\n",
    "                                else:\n",
    "                                    patient_data[currentABP].append(int(value))\n",
    "    return patient_data\n",
    "\n",
    "def write_data_to_file(patient_id, patient_data, valid_patients_labels, first_cardiac_arrest_records):\n",
    "    # find which patients are positive and negative\n",
    "    NUM_RECORDS = 10000\n",
    "\n",
    "    with open(f'mimic-database-small-version/valid_patient_data/{patient_id}_data.csv', 'w', encoding='utf-8') as f:\n",
    "        temp_record = {}\n",
    "        record_number = None\n",
    "        if valid_patients_labels[patient_id] == 0:\n",
    "            record_number = NUM_RECORDS\n",
    "        else:\n",
    "            record_number = max(NUM_RECORDS, first_cardiac_arrest_records[patient_id])\n",
    "        \n",
    "        signal_list = [\"SpO2\", \"RESP\", \"HR\", \"ABP1\", \"ABP2\", \"ABP3\"]\n",
    "        print(\"record_id,SpO2,RESP,HR,ABP1,ABP2,ABP3\")\n",
    "\n",
    "        for record_id in range(record_number-NUM_RECORDS,  record_number):\n",
    "            for signal in signal_list:\n",
    "                temp_record[signal] = patient_data[signal][record_id]\n",
    "            if record_id % 1000 == 0:\n",
    "                print(\"{},{},{},{},{},{},{}\".format(record_id+1, temp_record[\"SpO2\"], temp_record[\"RESP\"], temp_record[\"HR\"], temp_record[\"ABP1\"], temp_record[\"ABP2\"], temp_record[\"ABP3\"]))"
   ]
  },
  {
   "cell_type": "code",
   "execution_count": 5,
   "metadata": {
    "colab": {
     "base_uri": "https://localhost:8080/"
    },
    "id": "FUxJkSp9BX67",
    "outputId": "5a607fff-4a08-4544-b846-c9471ef2fd55"
   },
   "outputs": [
    {
     "name": "stdout",
     "output_type": "stream",
     "text": [
      "Getting data for patient name: 211\n",
      "record_id,SpO2,RESP,HR,ABP1,ABP2,ABP3\n",
      "1,95,8,90,76,137,50\n",
      "1001,92,2,88,104,191,62\n",
      "2001,0,14,93,98,157,62\n",
      "3001,0,11,96,129,209,76\n",
      "4001,0,29,94,102,163,65\n",
      "5001,93,5,90,117,204,69\n",
      "6001,0,11,95,132,223,72\n",
      "7001,93,0,87,83,153,53\n",
      "8001,0,11,97,121,196,72\n",
      "9001,0,0,91,84,142,53\n",
      "Getting data for patient name: 041\n",
      "record_id,SpO2,RESP,HR,ABP1,ABP2,ABP3\n",
      "1,93,14,82,92,135,73\n",
      "1001,93,14,81,85,129,68\n",
      "2001,91,14,89,56,88,42\n",
      "3001,94,14,87,75,114,56\n",
      "4001,97,14,76,92,138,73\n",
      "5001,82,16,102,86,118,67\n",
      "6001,97,14,81,87,133,69\n",
      "7001,96,14,82,87,132,70\n",
      "8001,97,14,86,81,117,64\n",
      "9001,93,14,72,83,122,68\n",
      "Getting data for patient name: 037\n",
      "record_id,SpO2,RESP,HR,ABP1,ABP2,ABP3\n",
      "1,0,18,117,69,87,59\n",
      "1001,0,18,117,77,96,68\n",
      "2001,0,18,121,50,68,42\n",
      "3001,0,18,123,33,44,28\n",
      "4001,0,18,125,53,70,45\n",
      "5001,0,18,116,77,96,68\n",
      "6001,0,31,122,78,99,67\n",
      "7001,0,18,115,69,86,60\n",
      "8001,0,18,124,48,65,39\n",
      "9001,0,18,158,52,67,44\n",
      "Getting data for patient name: 039\n",
      "record_id,SpO2,RESP,HR,ABP1,ABP2,ABP3\n",
      "1,92,14,105,68,101,54\n",
      "1001,95,16,111,57,93,40\n",
      "2001,88,16,101,74,111,58\n",
      "3001,92,0,114,75,111,59\n",
      "4001,92,12,117,68,101,53\n",
      "5001,97,20,135,98,130,82\n",
      "6001,93,14,105,60,94,46\n",
      "7001,94,5,117,80,115,66\n",
      "8001,93,14,107,63,99,47\n",
      "9001,92,28,124,90,129,65\n"
     ]
    },
    {
     "data": {
      "text/plain": [
       "{}"
      ]
     },
     "execution_count": 5,
     "metadata": {},
     "output_type": "execute_result"
    }
   ],
   "source": [
    "write_patient_data()"
   ]
  },
  {
   "cell_type": "markdown",
   "metadata": {
    "id": "tNNvW4MjAeNa"
   },
   "source": [
    "## TRACE Overview"
   ]
  },
  {
   "cell_type": "markdown",
   "metadata": {
    "id": "gdF0VgMD1mfb"
   },
   "source": [
    "The TRACE method is a simplified contrastive learning objective to train the model. The goal of contrastive learning is to learn a representation of input data that captures the underlying structure of the data by contrasting pairs of similar and dissimilar examples. The representation maps similar data points closer together in the representation space and maps dissimilar data points further apart. The objective in the context of our data is to label which patients experienced a cardiac arrest event over time series data. The objective in general is fluid, and labels can be created for any particular event related to the data.  \n",
    "\n",
    "The model consists of two neural networks, the encoder and the discriminator. The encoder is a dilated causal convolutional neural network with 4 layers; MaxPool1d, Squeeze, Linear, and Sequential layers. The discriminator is a simple single layer Multi-Layer Perceptron. The encoder and the discriminator both have 7 defined parameters. \n",
    "\n",
    "in-channels = 6; this represents the 6 physiological signals which we use to make predictions based on: SpO2, Respiratory Rate, Heart Rate, and 3 types of ABP measures.\n",
    "\n",
    "channels = 4; this represents the number of channels manipulated by our encoder.\n",
    "\n",
    "depth = 1; the depth of the input layer is only 1 because they are simple numeric data.\n",
    "\n",
    "reduced-size = 2; this is the length to which the output time series of the encoder is reduced.\n",
    "\n",
    "encoding-size = 10; this is the number of output channels for our encoder.\n",
    "\n",
    "kernel-size = 2; this is the kernel size for our encoder which is a CNN.\n",
    "\n",
    "window-size = 12; this represents the amount of data to encode at a time, in this case, we encode 12 entries at a time.\n",
    "\n",
    "The encoder has additional features, including filters that are exponentially dilated meaning deeper layers have filters that have been stretched out, leading to a larger receptive field, while making sure the output at time t is only reliant on time series data up to time t. When generating an encoding for a window Wt, the encoder is also fed the missing data mask to incorporate that information into its learning."
   ]
  },
  {
   "cell_type": "markdown",
   "metadata": {},
   "source": [
    "### Initializing Parameters and Importing Dependencies"
   ]
  },
  {
   "cell_type": "code",
   "execution_count": 6,
   "metadata": {},
   "outputs": [
    {
     "name": "stdout",
     "output_type": "stream",
     "text": [
      "ENCODER HYPER PARAMETERS\n",
      "in_channels\n",
      "6\n",
      "\n",
      "channels\n",
      "4\n",
      "\n",
      "depth\n",
      "1\n",
      "\n",
      "reduced_size\n",
      "2\n",
      "\n",
      "encoding_size\n",
      "10\n",
      "\n",
      "kernel_size\n",
      "2\n",
      "\n",
      "window_size\n",
      "12\n",
      "\n",
      "device\n",
      "cpu\n",
      "\n",
      "LEARN ENCODER HYPER PARAMETERS\n",
      "window_size\n",
      "60\n",
      "\n",
      "w\n",
      "0.05\n",
      "\n",
      "batch_size\n",
      "30\n",
      "\n",
      "lr\n",
      "5e-05\n",
      "\n",
      "decay\n",
      "0.0005\n",
      "\n",
      "mc_sample_size\n",
      "6\n",
      "\n",
      "n_epochs\n",
      "150\n",
      "\n",
      "data_type\n",
      "mimic\n",
      "\n",
      "n_cross_val_encoder\n",
      "1\n",
      "\n",
      "cont\n",
      "True\n",
      "\n",
      "ETA\n",
      "4\n",
      "\n",
      "ADF\n",
      "False\n",
      "\n",
      "ACF\n",
      "False\n",
      "\n",
      "ACF_PLUS\n",
      "True\n",
      "\n",
      "ACF_nghd_Threshold\n",
      "0.6\n",
      "\n",
      "ACF_out_nghd_Threshold\n",
      "0.1\n",
      "\n",
      "device\n",
      "cpu\n",
      "\n"
     ]
    }
   ],
   "source": [
    "import torch\n",
    "\n",
    "from cpc import cpc\n",
    "from end_to_end import end_to_end\n",
    "from trace_model import trace\n",
    "from triplet_loss import triplet_loss\n",
    "\n",
    "# Interval between recordings\n",
    "interval = 1\n",
    "\n",
    "# Setting hyperparams\n",
    "encoder_type = \"CausalCNNEncoder\"\n",
    "\n",
    "# Learn encoder hyperparams\n",
    "window_size = 60\n",
    "w = 0.05\n",
    "batch_size = 30\n",
    "lr = .00005\n",
    "decay = 0.0005\n",
    "mc_sample_size = 6\n",
    "n_epochs = 150\n",
    "data_type = \"mimic\"\n",
    "n_cross_val_encoder = 1\n",
    "ETA = 4\n",
    "ADF = False\n",
    "ACF = False\n",
    "ACF_PLUS = True\n",
    "ACF_nghd_Threshold = 0.6\n",
    "ACF_out_nghd_Threshold = 0.1\n",
    "\n",
    "# CausalCNNEncoder Hyperparameters\n",
    "CausalCNNEncoder_in_channels = 6\n",
    "CausalCNNEncoder_channels = 4\n",
    "CausalCNNEncoder_depth = 1\n",
    "CausalCNNEncoder_reduced_size = 2\n",
    "CausalCNNEncoder_encoding_size = 10\n",
    "CausalCNNEncoder_kernel_size = 2\n",
    "CausalCNNEncoder_window_size = 12\n",
    "\n",
    "n_cross_val_classification = 3\n",
    "\n",
    "encoder_hyper_params = {'in_channels': CausalCNNEncoder_in_channels,\n",
    "                            'channels': CausalCNNEncoder_channels, \n",
    "                            'depth': CausalCNNEncoder_depth, \n",
    "                            'reduced_size': CausalCNNEncoder_reduced_size,\n",
    "                            'encoding_size': CausalCNNEncoder_encoding_size,\n",
    "                            'kernel_size': CausalCNNEncoder_kernel_size,\n",
    "                            'window_size': CausalCNNEncoder_window_size}\n",
    "\n",
    "learn_encoder_hyper_params = {'window_size': window_size,\n",
    "                                'w': w,\n",
    "                                'batch_size': batch_size,\n",
    "                                'lr': lr,\n",
    "                                'decay': decay,\n",
    "                                'mc_sample_size': mc_sample_size,\n",
    "                                'n_epochs': n_epochs,\n",
    "                                'data_type': data_type,\n",
    "                                'n_cross_val_encoder': n_cross_val_encoder,\n",
    "                                'cont': True,\n",
    "                                'ETA': ETA,\n",
    "                                'ADF': ADF,\n",
    "                                'ACF': ACF,\n",
    "                                'ACF_PLUS': ACF_PLUS,\n",
    "                                'ACF_nghd_Threshold': ACF_nghd_Threshold,\n",
    "                                'ACF_out_nghd_Threshold': ACF_out_nghd_Threshold}\n",
    "\n",
    "\n",
    "classification_hyper_params = {'n_cross_val_classification': n_cross_val_classification}\n",
    "\n",
    "device = 'cuda' if torch.cuda.is_available() else 'cpu'\n",
    "\n",
    "if 'device' not in encoder_hyper_params:\n",
    "        encoder_hyper_params['device'] = device\n",
    "    \n",
    "if 'device' not in learn_encoder_hyper_params:\n",
    "    learn_encoder_hyper_params['device'] = device\n",
    "\n",
    "pretrain_hyper_params = {}\n",
    "\n",
    "print(\"ENCODER HYPER PARAMETERS\")\n",
    "for key in encoder_hyper_params:\n",
    "    print(key)\n",
    "    print(encoder_hyper_params[key])\n",
    "    print()\n",
    "print(\"LEARN ENCODER HYPER PARAMETERS\")\n",
    "for key in learn_encoder_hyper_params:\n",
    "    print(key)\n",
    "    print(learn_encoder_hyper_params[key])\n",
    "    print()"
   ]
  },
  {
   "cell_type": "markdown",
   "metadata": {
    "id": "k794yd5j_aH4"
   },
   "source": [
    "### Training and Evaluating TRACE Model"
   ]
  },
  {
   "cell_type": "code",
   "execution_count": 7,
   "metadata": {
    "id": "co5cQogYDVLg"
   },
   "outputs": [
    {
     "name": "stdout",
     "output_type": "stream",
     "text": [
      "Executing TRACE model ...\n",
      "Entering learn_encoder\n",
      "Current Time  2023-05-08 21:03:48.165094\n",
      "LEARN ENCODER CV:  0\n",
      "ETA, ADF, ACF, ACF_PLUS:  4 False False True\n",
      "USING ACF_PLUS\n"
     ]
    },
    {
     "name": "stderr",
     "output_type": "stream",
     "text": [
      "/Users/akhil/anaconda3/lib/python3.7/site-packages/statsmodels/tsa/stattools.py:541: FutureWarning: fft=True will become the default in a future version of statsmodels. To suppress this warning, explicitly set fft=False.\n",
      "  warnings.warn(msg, FutureWarning)\n",
      "/Users/akhil/anaconda3/lib/python3.7/site-packages/statsmodels/tsa/stattools.py:546: RuntimeWarning: invalid value encountered in true_divide\n",
      "  acf = avf[:nlags + 1] / avf[0]\n"
     ]
    },
    {
     "name": "stdout",
     "output_type": "stream",
     "text": [
      "Done with TNCDataset for train data. Moving on to validation data...\n",
      "Done making TNCDataset object for validation data\n",
      "(cv:0)Epoch 0 Encoder Loss =====> Training Loss: 6.15784 \t Training Accuracy: 0.48214 \t Validation Loss: 2.12671 \t Validation Accuracy: 0.48958\n",
      "(cv:0)Epoch 10 Encoder Loss =====> Training Loss: 5.77672 \t Training Accuracy: 0.51190 \t Validation Loss: 2.09192 \t Validation Accuracy: 0.51042\n",
      "(cv:0)Epoch 20 Encoder Loss =====> Training Loss: 5.75738 \t Training Accuracy: 0.51488 \t Validation Loss: 1.86373 \t Validation Accuracy: 0.48958\n",
      "(cv:0)Epoch 30 Encoder Loss =====> Training Loss: 5.10171 \t Training Accuracy: 0.49107 \t Validation Loss: 2.20267 \t Validation Accuracy: 0.48958\n",
      "(cv:0)Epoch 40 Encoder Loss =====> Training Loss: 138.33353 \t Training Accuracy: 0.50000 \t Validation Loss: 2.00146 \t Validation Accuracy: 0.47917\n",
      "(cv:0)Epoch 50 Encoder Loss =====> Training Loss: 902.79718 \t Training Accuracy: 0.47917 \t Validation Loss: 1.69911 \t Validation Accuracy: 0.50000\n",
      "(cv:0)Epoch 60 Encoder Loss =====> Training Loss: 5.22058 \t Training Accuracy: 0.44048 \t Validation Loss: 2.13625 \t Validation Accuracy: 0.47917\n",
      "(cv:0)Epoch 70 Encoder Loss =====> Training Loss: 4.20230 \t Training Accuracy: 0.48214 \t Validation Loss: 2.05655 \t Validation Accuracy: 0.50000\n",
      "(cv:0)Epoch 80 Encoder Loss =====> Training Loss: 3.82903 \t Training Accuracy: 0.55060 \t Validation Loss: 1.83252 \t Validation Accuracy: 0.50000\n",
      "(cv:0)Epoch 90 Encoder Loss =====> Training Loss: 3.88363 \t Training Accuracy: 0.50595 \t Validation Loss: 2.03216 \t Validation Accuracy: 0.47917\n",
      "(cv:0)Epoch 100 Encoder Loss =====> Training Loss: 4.15163 \t Training Accuracy: 0.52679 \t Validation Loss: 2.37912 \t Validation Accuracy: 0.44792\n",
      "(cv:0)Epoch 110 Encoder Loss =====> Training Loss: 3.48327 \t Training Accuracy: 0.53571 \t Validation Loss: 1.74046 \t Validation Accuracy: 0.50000\n",
      "(cv:0)Epoch 120 Encoder Loss =====> Training Loss: 4.02282 \t Training Accuracy: 0.46131 \t Validation Loss: 772.83722 \t Validation Accuracy: 0.47917\n",
      "(cv:0)Epoch 130 Encoder Loss =====> Training Loss: 4.34108 \t Training Accuracy: 0.45238 \t Validation Loss: 1.86462 \t Validation Accuracy: 0.50000\n",
      "(cv:0)Epoch 140 Encoder Loss =====> Training Loss: 4.16672 \t Training Accuracy: 0.50595 \t Validation Loss: 1.81225 \t Validation Accuracy: 0.43750\n",
      "(cv:0)Epoch 150 Encoder Loss =====> Training Loss: 3.89424 \t Training Accuracy: 0.50298 \t Validation Loss: 1.81898 \t Validation Accuracy: 0.47917\n",
      "=======> Performance Summary:\n",
      "Accuracy: 42.71 +- 0.00\n",
      "Loss: 1.4620 +- 0.0000\n",
      "Finished training encoder\n",
      "Current Time  2023-05-08 21:03:59.193881\n",
      "SETTING SEED TO 111*CV + 2*(classification_cv+1)\n",
      "Seed set to:  2\n",
      "Classification CV:  0\n",
      "Encoder for CV  0\n",
      "Original shape of train data: \n",
      "torch.Size([30, 1, 6, 10000])\n",
      "Size of valid data:  torch.Size([6, 1, 6, 10000])\n",
      "Size of valid labels:  torch.Size([6])\n",
      "num positive valid samples:  5\n",
      "Size of train data:  torch.Size([24, 1, 6, 10000])\n",
      "Size of train labels:  torch.Size([24])\n",
      "num positive train samples:  20\n",
      "Size of TEST data:  torch.Size([6, 1, 6, 10000])\n",
      "Size of TEST labels:  torch.Size([6])\n",
      "Num positive TEST samples:  4\n",
      "Mean of signals for train: tensor(66.7144) tensor(3022.0532) tensor(87.6712) tensor(81.7746) tensor(120.8033) tensor(62.2665)\n",
      "Mean of signal 1 for validation: tensor(53.6104) tensor(17.5265) tensor(91.0237) tensor(88.6417) tensor(126.4545) tensor(68.7505)\n",
      "Mean of signal 1 for TEST: tensor(90.6177) tensor(572.5262) tensor(87.9837) tensor(71.4761) tensor(108.8044) tensor(51.3721)\n",
      "TRAINING LINEAR CLASSIFIER\n",
      "Training Linear Classifier\n",
      "X_train shape:  torch.Size([24, 1, 6, 10000])\n",
      "batch_size:  20\n",
      "Learning Rate for classifier training:  0.001\n",
      "Weight Decay for classifier training:  0.005\n",
      "SETTING SEED TO 111*CV + 2*(classification_cv+1)\n",
      "Seed set to:  4\n",
      "Classification CV:  1\n",
      "Encoder for CV  0\n",
      "Original shape of train data: \n",
      "torch.Size([30, 1, 6, 10000])\n",
      "Size of valid data:  torch.Size([6, 1, 6, 10000])\n",
      "Size of valid labels:  torch.Size([6])\n",
      "num positive valid samples:  5\n",
      "Size of train data:  torch.Size([24, 1, 6, 10000])\n",
      "Size of train labels:  torch.Size([24])\n",
      "num positive train samples:  20\n",
      "Size of TEST data:  torch.Size([6, 1, 6, 10000])\n",
      "Size of TEST labels:  torch.Size([6])\n",
      "Num positive TEST samples:  4\n",
      "Mean of signals for train: tensor(66.8963) tensor(959.9903) tensor(86.5600) tensor(84.0111) tensor(123.1765) tensor(64.1310)\n",
      "Mean of signal 1 for validation: tensor(52.8831) tensor(8265.7812) tensor(95.4686) tensor(79.6960) tensor(116.9617) tensor(61.2926)\n",
      "Mean of signal 1 for TEST: tensor(90.6177) tensor(572.5262) tensor(87.9837) tensor(71.4761) tensor(108.8044) tensor(51.3721)\n",
      "TRAINING LINEAR CLASSIFIER\n",
      "Training Linear Classifier\n",
      "X_train shape:  torch.Size([24, 1, 6, 10000])\n",
      "batch_size:  20\n",
      "Learning Rate for classifier training:  0.001\n",
      "Weight Decay for classifier training:  0.005\n",
      "SETTING SEED TO 111*CV + 2*(classification_cv+1)\n",
      "Seed set to:  6\n",
      "Classification CV:  2\n",
      "Encoder for CV  0\n",
      "Original shape of train data: \n",
      "torch.Size([30, 1, 6, 10000])\n",
      "Size of valid data:  torch.Size([6, 1, 6, 10000])\n",
      "Size of valid labels:  torch.Size([6])\n",
      "num positive valid samples:  4\n",
      "Size of train data:  torch.Size([24, 1, 6, 10000])\n",
      "Size of train labels:  torch.Size([24])\n",
      "num positive train samples:  21\n",
      "Size of TEST data:  torch.Size([6, 1, 6, 10000])\n",
      "Size of TEST labels:  torch.Size([6])\n",
      "Num positive TEST samples:  4\n",
      "Mean of signals for train: tensor(64.1817) tensor(3022.4980) tensor(90.7873) tensor(83.7087) tensor(121.9056) tensor(64.3623)\n",
      "Mean of signal 1 for validation: tensor(63.7415) tensor(15.7473) tensor(78.5594) tensor(80.9056) tensor(122.0454) tensor(60.3671)\n",
      "Mean of signal 1 for TEST: tensor(90.6177) tensor(572.5262) tensor(87.9837) tensor(71.4761) tensor(108.8044) tensor(51.3721)\n",
      "TRAINING LINEAR CLASSIFIER\n",
      "Training Linear Classifier\n",
      "X_train shape:  torch.Size([24, 1, 6, 10000])\n",
      "batch_size:  20\n",
      "Learning Rate for classifier training:  0.001\n",
      "Weight Decay for classifier training:  0.005\n",
      "CLASSIFICATION VALIDATION RESULT OVER CV\n",
      "AUC: 0.61 +- 0.33, AUPRC: 0.87 +- 0.09\n",
      "CLASSIFICATION TEST RESULT OVER CV\n",
      "AUC: 0.54 +- 0.06, AUPRC: 0.74 +- 0.02\n",
      "Finished running on  2023-05-08 21:04:00.256426\n",
      "TRACE model finished\n",
      "\n"
     ]
    }
   ],
   "source": [
    "print(\"Executing TRACE model ...\")\n",
    "trace(data_type, encoder_type, encoder_hyper_params, learn_encoder_hyper_params, classification_hyper_params, pretrain_hyper_params)\n",
    "print(\"TRACE model finished\")\n",
    "print()\n"
   ]
  },
  {
   "cell_type": "markdown",
   "metadata": {
    "id": "k7wceE2u_3ss"
   },
   "source": [
    "### CPC Model Code"
   ]
  },
  {
   "cell_type": "code",
   "execution_count": 8,
   "metadata": {
    "id": "fikRFrKrDVnP"
   },
   "outputs": [
    {
     "name": "stdout",
     "output_type": "stream",
     "text": [
      "Executing CPC model for comparison ...\n",
      "\n",
      "Epoch  0\n",
      "Train ===> Loss:  3506.744937507164 \t Accuracy:  0.125\n",
      "Test ===> Loss:  3335.4990070934095 \t Accuracy:  0.16666666666666666\n",
      "\n",
      "Epoch  20\n",
      "Train ===> Loss:  3.236485460152229 \t Accuracy:  0.25\n",
      "Test ===> Loss:  3.9130492210388184 \t Accuracy:  0.16666666666666666\n",
      "\n",
      "Epoch  40\n",
      "Train ===> Loss:  2.8567750866835318 \t Accuracy:  0.375\n",
      "Test ===> Loss:  3.2136772871017456 \t Accuracy:  0.0\n",
      "\n",
      "Epoch  60\n",
      "Train ===> Loss:  3.1137845081587634 \t Accuracy:  0.125\n",
      "Test ===> Loss:  2.671497901280721 \t Accuracy:  0.16666666666666666\n",
      "\n",
      "Epoch  80\n",
      "Train ===> Loss:  3.960992152492205 \t Accuracy:  0.125\n",
      "Test ===> Loss:  2.9542036652565002 \t Accuracy:  0.16666666666666666\n",
      "\n",
      "Epoch  100\n",
      "Train ===> Loss:  2.361758861457929 \t Accuracy:  0.16666666666666666\n",
      "Test ===> Loss:  1.19420924782753 \t Accuracy:  0.3333333333333333\n",
      "\n",
      "Epoch  120\n",
      "Train ===> Loss:  2.2290563310186067 \t Accuracy:  0.16666666666666666\n",
      "Test ===> Loss:  2.4217382669448853 \t Accuracy:  0.3333333333333333\n",
      "\n",
      "Epoch  140\n",
      "Train ===> Loss:  2.585547473281622 \t Accuracy:  0.16666666666666666\n",
      "Test ===> Loss:  4.549778739611308 \t Accuracy:  0.16666666666666666\n",
      "\n",
      "Epoch  160\n",
      "Train ===> Loss:  3361.5542307930687 \t Accuracy:  0.2916666666666667\n",
      "Test ===> Loss:  1.5356664856274922 \t Accuracy:  0.5\n",
      "\n",
      "Epoch  180\n",
      "Train ===> Loss:  2.0805604979395866 \t Accuracy:  0.25\n",
      "Test ===> Loss:  1.7714365323384602 \t Accuracy:  0.3333333333333333\n",
      "\n",
      "Epoch  200\n",
      "Train ===> Loss:  3.064541831612587 \t Accuracy:  0.2916666666666667\n",
      "Test ===> Loss:  2.0119599203268685 \t Accuracy:  0.5\n",
      "\n",
      "Epoch  220\n",
      "Train ===> Loss:  1.8394218285878499 \t Accuracy:  0.125\n",
      "Test ===> Loss:  2.186956286430359 \t Accuracy:  0.0\n",
      "\n",
      "Epoch  240\n",
      "Train ===> Loss:  2.1301499729355178 \t Accuracy:  0.375\n",
      "Test ===> Loss:  2.2946019073327384 \t Accuracy:  0.3333333333333333\n",
      "\n",
      "Epoch  260\n",
      "Train ===> Loss:  1.7978827965756257 \t Accuracy:  0.25\n",
      "Test ===> Loss:  2.359534978866577 \t Accuracy:  0.0\n",
      "\n",
      "Epoch  280\n",
      "Train ===> Loss:  2.174597531557083 \t Accuracy:  0.16666666666666666\n",
      "Test ===> Loss:  1.6670387387275696 \t Accuracy:  0.0\n",
      "\n",
      "Epoch  300\n",
      "Train ===> Loss:  1.9315574318170547 \t Accuracy:  0.25\n",
      "Test ===> Loss:  2.1783252557118735 \t Accuracy:  0.3333333333333333\n",
      "\n",
      "Epoch  320\n",
      "Train ===> Loss:  1.8652084022760391 \t Accuracy:  0.2916666666666667\n",
      "Test ===> Loss:  1.8255458076794941 \t Accuracy:  0.16666666666666666\n",
      "\n",
      "Epoch  340\n",
      "Train ===> Loss:  2.2154293432831764 \t Accuracy:  0.16666666666666666\n",
      "Test ===> Loss:  2.0225499272346497 \t Accuracy:  0.3333333333333333\n",
      "\n",
      "Epoch  360\n",
      "Train ===> Loss:  1.913784570991993 \t Accuracy:  0.125\n",
      "Test ===> Loss:  1.8108101884524028 \t Accuracy:  0.16666666666666666\n",
      "\n",
      "Epoch  380\n",
      "Train ===> Loss:  2.400366815427939 \t Accuracy:  0.2916666666666667\n",
      "Test ===> Loss:  2.2379451195398965 \t Accuracy:  0.3333333333333333\n",
      "=======> Performance Summary:\n",
      "Accuracy: 83.33 +- 0.00\n",
      "Encoder CV:  0\n",
      "Seed set to:  2\n",
      "Original shape of train data: \n",
      "torch.Size([30, 1, 6, 10000])\n",
      "Size of valid data:  torch.Size([6, 1, 6, 10000])\n",
      "Size of valid labels:  torch.Size([6])\n",
      "num positive valid samples:  5\n",
      "Size of train data:  torch.Size([24, 1, 6, 10000])\n",
      "Size of train labels:  torch.Size([24])\n",
      "num positive train samples:  20\n",
      "Size of TEST data:  torch.Size([6, 1, 6, 10000])\n",
      "Size of TEST labels:  torch.Size([6])\n",
      "Num positive TEST samples:  4\n",
      "Mean of signals for train: tensor(66.7144) tensor(3022.0532) tensor(87.6712) tensor(81.7746) tensor(120.8033) tensor(62.2665)\n",
      "Mean of signal 1 for validation: tensor(53.6104) tensor(17.5265) tensor(91.0237) tensor(88.6417) tensor(126.4545) tensor(68.7505)\n",
      "Mean of signal 1 for TEST: tensor(90.6177) tensor(572.5262) tensor(87.9837) tensor(71.4761) tensor(108.8044) tensor(51.3721)\n",
      "TRAINING LINEAR CLASSIFIER\n",
      "Training Linear Classifier\n",
      "X_train shape:  torch.Size([24, 1, 6, 10000])\n",
      "batch_size:  20\n",
      "Learning Rate for classifier training:  0.001\n",
      "Weight Decay for classifier training:  0.005\n",
      "CLASSIFICATION VALIDATION RESULT OVER CV\n",
      "AUC: 1.00 +- 0.00, AUPRC: 1.00 +- 0.00\n",
      "CLASSIFICATION TEST RESULT OVER CV\n",
      "AUC: 0.38 +- 0.00, AUPRC: 0.54 +- 0.00\n",
      "CPC model finished\n",
      "\n"
     ]
    }
   ],
   "source": [
    "print(\"Executing CPC model for comparison ...\")\n",
    "cpc(data_type, lr=0.0001, cv=1)\n",
    "print(\"CPC model finished\")\n",
    "print()"
   ]
  },
  {
   "cell_type": "markdown",
   "metadata": {
    "id": "iMG-S6CN_35D"
   },
   "source": [
    "### T-Loss Code"
   ]
  },
  {
   "cell_type": "code",
   "execution_count": 9,
   "metadata": {
    "id": "VSqnLNI3DWE7"
   },
   "outputs": [
    {
     "name": "stdout",
     "output_type": "stream",
     "text": [
      "Executing Triplet-Loss model for comparison ...\n",
      "\n",
      "Epoch  0\n",
      "Train ===> Loss:  1436.2012329101562 \t Test ===> Loss:  894.1500244140625\n",
      "\n",
      "Epoch  10\n",
      "Train ===> Loss:  51.232561111450195 \t Test ===> Loss:  28.419509887695312\n",
      "\n",
      "Epoch  20\n",
      "Train ===> Loss:  7.400991678237915 \t Test ===> Loss:  7.742160320281982\n",
      "\n",
      "Epoch  30\n",
      "Train ===> Loss:  3.7289860248565674 \t Test ===> Loss:  3.6083996295928955\n",
      "\n",
      "Epoch  40\n",
      "Train ===> Loss:  2.9041683673858643 \t Test ===> Loss:  2.7390201091766357\n",
      "\n",
      "Epoch  50\n",
      "Train ===> Loss:  2.4295214414596558 \t Test ===> Loss:  4.92408561706543\n",
      "\n",
      "Epoch  60\n",
      "Train ===> Loss:  1.9453009963035583 \t Test ===> Loss:  3.870530605316162\n",
      "\n",
      "Epoch  70\n",
      "Train ===> Loss:  1.9480819702148438 \t Test ===> Loss:  4.00455379486084\n",
      "\n",
      "Epoch  80\n",
      "Train ===> Loss:  1.6495745182037354 \t Test ===> Loss:  5.025519371032715\n",
      "\n",
      "Epoch  90\n",
      "Train ===> Loss:  1.4846894145011902 \t Test ===> Loss:  3.8442234992980957\n",
      "\n",
      "Epoch  100\n",
      "Train ===> Loss:  1.4909957647323608 \t Test ===> Loss:  3.3955023288726807\n",
      "\n",
      "Epoch  110\n",
      "Train ===> Loss:  1.9264668226242065 \t Test ===> Loss:  3.148866891860962\n",
      "\n",
      "Epoch  120\n",
      "Train ===> Loss:  1.863356351852417 \t Test ===> Loss:  3.118072509765625\n",
      "\n",
      "Epoch  130\n",
      "Train ===> Loss:  1.2766324281692505 \t Test ===> Loss:  3.685879945755005\n",
      "\n",
      "Epoch  140\n",
      "Train ===> Loss:  1.241612285375595 \t Test ===> Loss:  2.670604705810547\n",
      "Encoder CV:  0\n",
      "Seed set to:  2\n",
      "Original shape of train data: \n",
      "torch.Size([30, 1, 6, 10000])\n",
      "First 15 inds:  [ 3 22 17 15  0 25  4  7 14 16 20 24 12 18 10]\n",
      "Size of valid data:  torch.Size([6, 1, 6, 10000])\n",
      "Size of valid labels:  torch.Size([6])\n",
      "num positive valid samples:  5\n",
      "Size of train data:  torch.Size([24, 1, 6, 10000])\n",
      "Size of train labels:  torch.Size([24])\n",
      "num positive train samples:  20\n",
      "Size of TEST data:  torch.Size([6, 1, 6, 10000])\n",
      "Size of TEST labels:  torch.Size([6])\n",
      "Num positive TEST samples:  4\n",
      "TRAINING LINEAR CLASSIFIER\n",
      "Training Linear Classifier\n",
      "X_train shape:  torch.Size([24, 1, 6, 10000])\n",
      "batch_size:  20\n",
      "Learning Rate for classifier training:  0.001\n",
      "Weight Decay for classifier training:  0.005\n",
      "CLASSIFICATION VALIDATION RESULT OVER CV\n",
      "AUC: 0.60 +- 0.00, AUPRC: 0.92 +- 0.00\n",
      "CLASSIFICATION TEST RESULT OVER CV\n",
      "AUC: 0.38 +- 0.00, AUPRC: 0.69 +- 0.00\n",
      "Triplet-Loss model finished\n",
      "\n"
     ]
    }
   ],
   "source": [
    "print(\"Executing Triplet-Loss model for comparison ...\")\n",
    "triplet_loss(data_type, 0.0001, 1)\n",
    "print(\"Triplet-Loss model finished\")\n",
    "print()"
   ]
  },
  {
   "cell_type": "markdown",
   "metadata": {
    "id": "yL3c0WQo_4tT"
   },
   "source": [
    "### Supervised E2E Code"
   ]
  },
  {
   "cell_type": "code",
   "execution_count": 10,
   "metadata": {
    "id": "GF8VhlxtDWeM"
   },
   "outputs": [
    {
     "name": "stdout",
     "output_type": "stream",
     "text": [
      "Executing End-to-End model for comparison ...\n",
      "***** Epoch 10 *****\n",
      "Training Loss: 6.955 \t Training AUROC: 0.450  \t Training AUPRC: 0.869\t Valid Loss: 7.045 \t Valid AUROC: 0.400 \t Valid AUPRC: 0.877\n",
      "***** Epoch 20 *****\n",
      "Training Loss: 6.110 \t Training AUROC: 0.588  \t Training AUPRC: 0.884\t Valid Loss: 6.318 \t Valid AUROC: 0.200 \t Valid AUPRC: 0.810\n",
      "***** Epoch 30 *****\n",
      "Training Loss: 5.761 \t Training AUROC: 0.375  \t Training AUPRC: 0.828\t Valid Loss: 5.808 \t Valid AUROC: 0.800 \t Valid AUPRC: 0.967\n",
      "***** Epoch 40 *****\n",
      "Training Loss: 4.812 \t Training AUROC: 0.363  \t Training AUPRC: 0.823\t Valid Loss: 4.831 \t Valid AUROC: 0.800 \t Valid AUPRC: 0.967\n",
      "***** Epoch 50 *****\n",
      "Training Loss: 4.688 \t Training AUROC: 0.500  \t Training AUPRC: 0.887\t Valid Loss: 4.662 \t Valid AUROC: 0.600 \t Valid AUPRC: 0.927\n",
      "***** Epoch 60 *****\n",
      "Training Loss: 4.522 \t Training AUROC: 0.312  \t Training AUPRC: 0.774\t Valid Loss: 4.506 \t Valid AUROC: 0.000 \t Valid AUPRC: 0.710\n",
      "***** Epoch 70 *****\n",
      "Training Loss: 4.338 \t Training AUROC: 0.287  \t Training AUPRC: 0.788\t Valid Loss: 4.324 \t Valid AUROC: 0.400 \t Valid AUPRC: 0.877\n",
      "***** Epoch 80 *****\n",
      "Training Loss: 4.227 \t Training AUROC: 0.412  \t Training AUPRC: 0.837\t Valid Loss: 4.208 \t Valid AUROC: 0.400 \t Valid AUPRC: 0.877\n",
      "***** Epoch 90 *****\n",
      "Training Loss: 4.133 \t Training AUROC: 0.350  \t Training AUPRC: 0.806\t Valid Loss: 4.111 \t Valid AUROC: 1.000 \t Valid AUPRC: 1.000\n",
      "***** Epoch 100 *****\n",
      "Training Loss: 4.031 \t Training AUROC: 0.350  \t Training AUPRC: 0.771\t Valid Loss: 4.001 \t Valid AUROC: 1.000 \t Valid AUPRC: 1.000\n",
      "Train classification report: \n",
      "train_y_all shape:  torch.Size([24]) train_pred_all shape:  torch.Size([24])\n",
      "              precision    recall  f1-score   support\n",
      "\n",
      "      normal       0.00      0.00      0.00         4\n",
      "      Arrest       0.83      1.00      0.91        20\n",
      "\n",
      "    accuracy                           0.83        24\n",
      "   macro avg       0.42      0.50      0.45        24\n",
      "weighted avg       0.69      0.83      0.76        24\n",
      "\n",
      "Validation classification report: \n",
      "              precision    recall  f1-score   support\n",
      "\n",
      "      normal       0.00      0.00      0.00         1\n",
      "      Arrest       0.83      1.00      0.91         5\n",
      "\n",
      "    accuracy                           0.83         6\n",
      "   macro avg       0.42      0.50      0.45         6\n",
      "weighted avg       0.69      0.83      0.76         6\n",
      "\n",
      "\n",
      "TEST classification report: \n",
      "              precision    recall  f1-score   support\n",
      "\n",
      "      normal       0.00      0.00      0.00         2\n",
      "      Arrest       0.67      1.00      0.80         4\n",
      "\n",
      "    accuracy                           0.67         6\n",
      "   macro avg       0.33      0.50      0.40         6\n",
      "weighted avg       0.44      0.67      0.53         6\n",
      "\n",
      "\n",
      "\n"
     ]
    },
    {
     "name": "stderr",
     "output_type": "stream",
     "text": [
      "/Users/akhil/anaconda3/lib/python3.7/site-packages/sklearn/metrics/classification.py:1437: UndefinedMetricWarning: Precision and F-score are ill-defined and being set to 0.0 in labels with no predicted samples.\n",
      "  'precision', 'predicted', average, warn_for)\n"
     ]
    },
    {
     "name": "stdout",
     "output_type": "stream",
     "text": [
      "***** Epoch 10 *****\n",
      "Training Loss: 6.340 \t Training AUROC: 0.325  \t Training AUPRC: 0.793\t Valid Loss: 6.788 \t Valid AUROC: 0.800 \t Valid AUPRC: 0.967\n",
      "***** Epoch 20 *****\n",
      "Training Loss: 5.315 \t Training AUROC: 0.688  \t Training AUPRC: 0.930\t Valid Loss: 5.160 \t Valid AUROC: 0.000 \t Valid AUPRC: 0.710\n",
      "***** Epoch 30 *****\n",
      "Training Loss: 4.289 \t Training AUROC: 0.400  \t Training AUPRC: 0.834\t Valid Loss: 4.261 \t Valid AUROC: 0.200 \t Valid AUPRC: 0.810\n",
      "***** Epoch 40 *****\n",
      "Training Loss: 4.022 \t Training AUROC: 0.400  \t Training AUPRC: 0.836\t Valid Loss: 4.225 \t Valid AUROC: 0.000 \t Valid AUPRC: 0.710\n",
      "***** Epoch 50 *****\n",
      "Training Loss: 3.752 \t Training AUROC: 0.487  \t Training AUPRC: 0.868\t Valid Loss: 3.677 \t Valid AUROC: 0.200 \t Valid AUPRC: 0.810\n",
      "***** Epoch 60 *****\n",
      "Training Loss: 3.427 \t Training AUROC: 0.500  \t Training AUPRC: 0.864\t Valid Loss: 3.321 \t Valid AUROC: 0.000 \t Valid AUPRC: 0.710\n",
      "***** Epoch 70 *****\n",
      "Training Loss: 3.293 \t Training AUROC: 0.463  \t Training AUPRC: 0.857\t Valid Loss: 3.159 \t Valid AUROC: 0.000 \t Valid AUPRC: 0.710\n",
      "***** Epoch 80 *****\n",
      "Training Loss: 3.076 \t Training AUROC: 0.487  \t Training AUPRC: 0.867\t Valid Loss: 2.866 \t Valid AUROC: 0.000 \t Valid AUPRC: 0.710\n",
      "***** Epoch 90 *****\n",
      "Training Loss: 2.766 \t Training AUROC: 0.450  \t Training AUPRC: 0.862\t Valid Loss: 2.602 \t Valid AUROC: 0.400 \t Valid AUPRC: 0.877\n",
      "***** Epoch 100 *****\n",
      "Training Loss: 2.696 \t Training AUROC: 0.363  \t Training AUPRC: 0.798\t Valid Loss: 2.545 \t Valid AUROC: 0.400 \t Valid AUPRC: 0.877\n",
      "Train classification report: \n",
      "train_y_all shape:  torch.Size([24]) train_pred_all shape:  torch.Size([24])\n",
      "              precision    recall  f1-score   support\n",
      "\n",
      "      normal       0.00      0.00      0.00         4\n",
      "      Arrest       0.83      0.95      0.88        20\n",
      "\n",
      "    accuracy                           0.79        24\n",
      "   macro avg       0.41      0.47      0.44        24\n",
      "weighted avg       0.69      0.79      0.74        24\n",
      "\n",
      "Validation classification report: \n",
      "              precision    recall  f1-score   support\n",
      "\n",
      "      normal       0.00      0.00      0.00         1\n",
      "      Arrest       0.83      1.00      0.91         5\n",
      "\n",
      "    accuracy                           0.83         6\n",
      "   macro avg       0.42      0.50      0.45         6\n",
      "weighted avg       0.69      0.83      0.76         6\n",
      "\n",
      "\n",
      "TEST classification report: \n",
      "              precision    recall  f1-score   support\n",
      "\n",
      "      normal       0.00      0.00      0.00         2\n",
      "      Arrest       0.60      0.75      0.67         4\n",
      "\n",
      "    accuracy                           0.50         6\n",
      "   macro avg       0.30      0.38      0.33         6\n",
      "weighted avg       0.40      0.50      0.44         6\n",
      "\n",
      "\n",
      "\n"
     ]
    },
    {
     "name": "stderr",
     "output_type": "stream",
     "text": [
      "/Users/akhil/anaconda3/lib/python3.7/site-packages/sklearn/metrics/classification.py:1437: UndefinedMetricWarning: Precision and F-score are ill-defined and being set to 0.0 in labels with no predicted samples.\n",
      "  'precision', 'predicted', average, warn_for)\n"
     ]
    },
    {
     "name": "stdout",
     "output_type": "stream",
     "text": [
      "***** Epoch 10 *****\n",
      "Training Loss: 5.296 \t Training AUROC: 0.600  \t Training AUPRC: 0.912\t Valid Loss: 5.268 \t Valid AUROC: 0.000 \t Valid AUPRC: 0.710\n",
      "***** Epoch 20 *****\n",
      "Training Loss: 5.031 \t Training AUROC: 0.713  \t Training AUPRC: 0.939\t Valid Loss: 4.988 \t Valid AUROC: 0.400 \t Valid AUPRC: 0.877\n",
      "***** Epoch 30 *****\n",
      "Training Loss: 4.916 \t Training AUROC: 0.650  \t Training AUPRC: 0.915\t Valid Loss: 4.938 \t Valid AUROC: 0.400 \t Valid AUPRC: 0.877\n",
      "***** Epoch 40 *****\n",
      "Training Loss: 4.787 \t Training AUROC: 0.575  \t Training AUPRC: 0.855\t Valid Loss: 4.823 \t Valid AUROC: 0.400 \t Valid AUPRC: 0.877\n",
      "***** Epoch 50 *****\n",
      "Training Loss: 4.685 \t Training AUROC: 0.600  \t Training AUPRC: 0.883\t Valid Loss: 4.686 \t Valid AUROC: 0.600 \t Valid AUPRC: 0.927\n",
      "***** Epoch 60 *****\n",
      "Training Loss: 4.581 \t Training AUROC: 0.575  \t Training AUPRC: 0.884\t Valid Loss: 4.558 \t Valid AUROC: 0.600 \t Valid AUPRC: 0.927\n",
      "***** Epoch 70 *****\n",
      "Training Loss: 4.366 \t Training AUROC: 0.588  \t Training AUPRC: 0.879\t Valid Loss: 4.319 \t Valid AUROC: 0.800 \t Valid AUPRC: 0.967\n",
      "***** Epoch 80 *****\n",
      "Training Loss: 4.167 \t Training AUROC: 0.688  \t Training AUPRC: 0.895\t Valid Loss: 4.122 \t Valid AUROC: 0.800 \t Valid AUPRC: 0.967\n",
      "***** Epoch 90 *****\n",
      "Training Loss: 3.938 \t Training AUROC: 0.688  \t Training AUPRC: 0.917\t Valid Loss: 3.908 \t Valid AUROC: 0.800 \t Valid AUPRC: 0.967\n",
      "***** Epoch 100 *****\n",
      "Training Loss: 3.654 \t Training AUROC: 0.662  \t Training AUPRC: 0.920\t Valid Loss: 3.648 \t Valid AUROC: 0.600 \t Valid AUPRC: 0.927\n",
      "Train classification report: \n",
      "train_y_all shape:  torch.Size([24]) train_pred_all shape:  torch.Size([24])\n",
      "              precision    recall  f1-score   support\n",
      "\n",
      "      normal       0.00      0.00      0.00         4\n",
      "      Arrest       0.83      1.00      0.91        20\n",
      "\n",
      "    accuracy                           0.83        24\n",
      "   macro avg       0.42      0.50      0.45        24\n",
      "weighted avg       0.69      0.83      0.76        24\n",
      "\n",
      "Validation classification report: \n",
      "              precision    recall  f1-score   support\n",
      "\n",
      "      normal       0.00      0.00      0.00         1\n",
      "      Arrest       0.83      1.00      0.91         5\n",
      "\n",
      "    accuracy                           0.83         6\n",
      "   macro avg       0.42      0.50      0.45         6\n",
      "weighted avg       0.69      0.83      0.76         6\n",
      "\n",
      "\n",
      "TEST classification report: \n",
      "              precision    recall  f1-score   support\n",
      "\n",
      "      normal       0.00      0.00      0.00         2\n",
      "      Arrest       0.67      1.00      0.80         4\n",
      "\n",
      "    accuracy                           0.67         6\n",
      "   macro avg       0.33      0.50      0.40         6\n",
      "weighted avg       0.44      0.67      0.53         6\n",
      "\n",
      "\n",
      "\n",
      "Final Test performance:\t Loss: 3.330 +- 0.170 \t Test AUROC: 0.083 +- 0.118 \t Test AUPRC: 0.581 +- 0.079\n",
      "End-to-End model finished\n",
      "\n"
     ]
    },
    {
     "name": "stderr",
     "output_type": "stream",
     "text": [
      "/Users/akhil/anaconda3/lib/python3.7/site-packages/sklearn/metrics/classification.py:1437: UndefinedMetricWarning: Precision and F-score are ill-defined and being set to 0.0 in labels with no predicted samples.\n",
      "  'precision', 'predicted', average, warn_for)\n"
     ]
    }
   ],
   "source": [
    "print(\"Executing End-to-End model for comparison ...\")\n",
    "end_to_end(data_type, 3)\n",
    "print(\"End-to-End model finished\")\n",
    "print()"
   ]
  },
  {
   "cell_type": "markdown",
   "metadata": {
    "id": "15Mrldmfq8Iz"
   },
   "source": [
    "# Illustration of the results"
   ]
  },
  {
   "cell_type": "code",
   "execution_count": 11,
   "metadata": {
    "colab": {
     "base_uri": "https://localhost:8080/",
     "height": 238
    },
    "id": "zh1AUndktBDp",
    "outputId": "024d0381-d150-442c-ca24-2a71f6a8e097"
   },
   "outputs": [
    {
     "data": {
      "image/png": "[encoded data removed]",
      "text/plain": [
       "<IPython.core.display.Image object>"
      ]
     },
     "execution_count": 11,
     "metadata": {},
     "output_type": "execute_result"
    }
   ],
   "source": [
    "Image('cardiac_failure_results.png')"
   ]
  },
  {
   "cell_type": "markdown",
   "metadata": {
    "id": "5dkjBLSGuJMU"
   },
   "source": [
    "From our results it is clear that TRACE outperforms the other models. It has a better AUROC and AUPRC score compared to the other models we chose as baselines. This proves our claim/hypothesis that TRACE would outperform all the baseline models"
   ]
  },
  {
   "cell_type": "markdown",
   "metadata": {
    "id": "Vx-VuN7guJlm"
   },
   "source": [
    "These were the results from the original paper:"
   ]
  },
  {
   "cell_type": "code",
   "execution_count": 12,
   "metadata": {
    "colab": {
     "base_uri": "https://localhost:8080/",
     "height": 215
    },
    "id": "Q8BF2lSctk6o",
    "outputId": "1019605d-b63d-4ec6-8ae4-8d169245d9bc"
   },
   "outputs": [
    {
     "data": {
      "image/png": "[encoded data removed]",
      "text/plain": [
       "<IPython.core.display.Image object>"
      ]
     },
     "execution_count": 12,
     "metadata": {},
     "output_type": "execute_result"
    }
   ],
   "source": [
    "Image('circulatory_failure_results.png')"
   ]
  },
  {
   "cell_type": "code",
   "execution_count": 13,
   "metadata": {
    "colab": {
     "base_uri": "https://localhost:8080/",
     "height": 222
    },
    "id": "LGgJRBrvtqc1",
    "outputId": "a8caa28c-bded-466d-ae66-38368381706c"
   },
   "outputs": [
    {
     "data": {
      "image/png": "[encoded data removed]",
      "text/plain": [
       "<IPython.core.display.Image object>"
      ]
     },
     "execution_count": 13,
     "metadata": {},
     "output_type": "execute_result"
    }
   ],
   "source": [
    "Image('mortality_results.png')"
   ]
  },
  {
   "cell_type": "code",
   "execution_count": 14,
   "metadata": {
    "colab": {
     "base_uri": "https://localhost:8080/",
     "height": 217
    },
    "id": "TmdmAMzHtti2",
    "outputId": "4930daba-3c34-4410-bda1-358e6b35e950"
   },
   "outputs": [
    {
     "data": {
      "image/png": "[encoded data removed]",
      "text/plain": [
       "<IPython.core.display.Image object>"
      ]
     },
     "execution_count": 14,
     "metadata": {},
     "output_type": "execute_result"
    }
   ],
   "source": [
    "Image('cardiopulmonary_arrest_results.png')"
   ]
  },
  {
   "cell_type": "markdown",
   "metadata": {
    "id": "gMImPiwquNlF"
   },
   "source": [
    "Comparing to our own results, it is interesting to\n",
    "note that AUPRC score does not go above 0.5 for\n",
    "any of the models in the original paper. This\n",
    "means that the model performs worse than random\n",
    "chance at making positive predictions. Comparing\n",
    "that to the performance on the MIMIC dataset, our\n",
    "AUPRC scores overall are much higher in\n",
    "comparison.\n",
    "\n",
    "\n",
    "On the other hand, AUROC scores across the\n",
    "board are much lower for all models. There is an\n",
    "especially stark difference between E2E for the\n",
    "MIMIC and HiRID data-sets. This means that our\n",
    "models in comparison to the original paper’s\n",
    "models are less likely to make predictions\n",
    "accurately, this especially being true for E2E.\n",
    "\n",
    "\n",
    "The original paper shows a significant difference\n",
    "in performance metrics for TRACE compared to\n",
    "the other models, and that trend is even more\n",
    "apparent in our own experiment. Given the results,\n",
    "it is fair to say that our experiment supports the\n",
    "original paper’s hypothesis that TRACE or patient\n",
    "representation learning is useful as a model and\n",
    "can be generalized to any labels that could be\n",
    "created for data."
   ]
  },
  {
   "cell_type": "markdown",
   "metadata": {
    "id": "qfSix5Ijq8bJ"
   },
   "source": [
    "# References"
   ]
  },
  {
   "cell_type": "markdown",
   "metadata": {
    "id": "Dkuq5hq1rbgh"
   },
   "source": [
    "Jean-Yves Franceschi, Aymeric Dieuleveut, and Martin\n",
    "Jaggi. 2020. Unsupervised scalable representation learn-\n",
    "ing for multivariate time series. In 33rd Conference on\n",
    "Neural Information Processing Systems.\n",
    "\n",
    "George B. Moody and Roger G. Mark. 1996. A database\n",
    "to support development and evaluation of intelligent\n",
    "intensive care monitoring. In Computers in Cardiology\n",
    "23:657-660.\n",
    "\n",
    "Aaron van den Oord, Yazhe Li, and Oriol Vinyals. 2019.\n",
    "Representation learning with contrastive predictive cod-\n",
    "ing. In Preprint.\n",
    "\n",
    "Sana Tonekaboni, Danny Eytan, and Anna Goldenberg. 2021. Unsupervised representation learning for time\n",
    "series with temporal neighborhood coding. In Interna-\n",
    "tional Conference on Learning Representations.\n",
    "\n",
    "Addison Weatherhead, Robert Greer, Michael-Alice\n",
    "Moga, Mjaye Mazwi, Danny Eytan, Anna Goldenberg,\n",
    "and Sana Tonekaboni. 2022. Learning unsupervised\n",
    "representations for icu timeseries. In Proceedings of\n",
    "the Conference on Health, Inference, and Learning, vol-\n",
    "ume 174 of Proceedings of Machine Learning Research,\n",
    "pages 152–168. PMLR."
   ]
  }
 ],
 "metadata": {
  "colab": {
   "provenance": []
  },
  "kernelspec": {
   "display_name": "Python 3",
   "language": "python",
   "name": "python3"
  },
  "language_info": {
   "codemirror_mode": {
    "name": "ipython",
    "version": 3
   },
   "file_extension": ".py",
   "mimetype": "text/x-python",
   "name": "python",
   "nbconvert_exporter": "python",
   "pygments_lexer": "ipython3",
   "version": "3.7.3"
  }
 },
 "nbformat": 4,
 "nbformat_minor": 4
}
